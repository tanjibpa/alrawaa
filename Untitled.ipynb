{
 "cells": [
  {
   "cell_type": "code",
   "execution_count": 44,
   "metadata": {},
   "outputs": [],
   "source": [
    "from saleor.dashboard.product import forms"
   ]
  },
  {
   "cell_type": "code",
   "execution_count": 45,
   "metadata": {},
   "outputs": [],
   "source": [
    "products_all = Product.objects.all()\n",
    "variants_all = ProductVariant.objects.all()"
   ]
  },
  {
   "cell_type": "code",
   "execution_count": 46,
   "metadata": {},
   "outputs": [
    {
     "data": {
      "text/plain": [
       "131"
      ]
     },
     "execution_count": 46,
     "metadata": {},
     "output_type": "execute_result"
    }
   ],
   "source": [
    "len(variants_all)"
   ]
  },
  {
   "cell_type": "code",
   "execution_count": 47,
   "metadata": {},
   "outputs": [],
   "source": [
    "ps = Product.objects.filter(product_class_id=1)"
   ]
  },
  {
   "cell_type": "code",
   "execution_count": 49,
   "metadata": {},
   "outputs": [
    {
     "data": {
      "text/plain": [
       "<QuerySet [{'attributes': {'2': '12', '3': '7', '4': '2'}, 'product__name': 'Deluxe Pancake Man - Vape Breakfast Classics'}, {'attributes': {'2': '12', '3': '7', '4': '1'}, 'product__name': 'Deluxe Pancake Man - Vape Breakfast Classics'}, {'attributes': {'2': '14', '3': '7', '4': '1'}, 'product__name': 'VANILLA ALMOND MILK BY KILO ELIQUIDS MOO SERIES'}, {'attributes': {'2': '19', '3': '7', '4': '1'}, 'product__name': 'NEAPOLITAN BY KILO ELIQUIDS MOO SERIES'}, {'attributes': {'2': '17', '3': '7', '4': '3'}, 'product__name': 'BLUEBERRY MILK BY KILO ELIQUIDS MOO SERIES'}, {'attributes': {'2': '17', '3': '7', '4': '2'}, 'product__name': 'BLUEBERRY MILK BY KILO ELIQUIDS MOO SERIES'}, {'attributes': {'2': '17', '3': '7', '4': '1'}, 'product__name': 'BLUEBERRY MILK BY KILO ELIQUIDS MOO SERIES'}, {'attributes': {'2': '16', '3': '7', '4': '1'}, 'product__name': 'BANANA MILK BY KILO ELIQUIDS MOO SERIES'}, {'attributes': {'2': '15', '3': '7', '4': '1'}, 'product__name': 'COFFEE MILK BY KILO ELIQUIDS MOO SERIES'}, {'attributes': {'2': '18', '3': '7', '4': '1'}, 'product__name': 'STRAWBERRY MILK BY KILO ELIQUIDS MOO SERIES'}, {'attributes': {'2': '21', '3': '7', '4': '1'}, 'product__name': 'SECRET SAUCE STIX REPLACEMENT POD'}, {'attributes': {'2': '22', '3': '7', '4': '1'}, 'product__name': 'SECRET SAUCE STIX REPLACEMENT PODS - 4 PACK'}, {'attributes': {'2': '23', '3': '7', '4': '1'}, 'product__name': 'SECRET SAUCE STIX REPLACEMENT PODS - 4 PACK'}, {'attributes': {'2': '25', '3': '7', '4': '1'}, 'product__name': 'SECRET SAUCE STIX REPLACEMENT PODS - 4 PACK'}, {'attributes': {'2': '24', '3': '7', '4': '1'}, 'product__name': 'SECRET SAUCE STIX REPLACEMENT PODS - 4 PACK'}, {'attributes': {'2': '27', '3': '7', '4': '1'}, 'product__name': 'VGOD - SOURLICIOUS'}, {'attributes': {'2': '162', '3': '8', '4': '2'}, 'product__name': 'Lush Ice by VGOD'}, {'attributes': {'2': '28', '3': '7', '4': '1'}, 'product__name': 'Lush Ice by VGOD'}, {'attributes': {'2': '30', '3': '7', '4': '1'}, 'product__name': 'PURPLE BERRY BY CLOUD BREAKERS CANDY E-JUICE - 60ML'}, {'attributes': {'2': '32', '3': '7', '4': '1'}, 'product__name': 'MANGOLUST BY CRAVE E-LIQUIDS - 60ML'}, '...(remaining elements truncated)...']>"
      ]
     },
     "execution_count": 49,
     "metadata": {},
     "output_type": "execute_result"
    }
   ],
   "source": [
    "vs = ProductVariant.objects.filter(product__in=ps).values('attributes', 'product__name')\n",
    "vs"
   ]
  },
  {
   "cell_type": "code",
   "execution_count": null,
   "metadata": {},
   "outputs": [],
   "source": []
  },
  {
   "cell_type": "code",
   "execution_count": null,
   "metadata": {},
   "outputs": [],
   "source": []
  }
 ],
 "metadata": {
  "kernelspec": {
   "display_name": "Django Shell-Plus",
   "language": "python",
   "name": "django_extensions"
  },
  "language_info": {
   "codemirror_mode": {
    "name": "ipython",
    "version": 3
   },
   "file_extension": ".py",
   "mimetype": "text/x-python",
   "name": "python",
   "nbconvert_exporter": "python",
   "pygments_lexer": "ipython3",
   "version": "3.6.5"
  }
 },
 "nbformat": 4,
 "nbformat_minor": 2
}
